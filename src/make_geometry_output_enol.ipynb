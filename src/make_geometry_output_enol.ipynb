{
 "cells": [
  {
   "cell_type": "code",
   "execution_count": 1,
   "id": "bc3d039f-04ac-497c-a7fc-60be96144ca3",
   "metadata": {},
   "outputs": [],
   "source": [
    "import codecs\n",
    "import glob\n",
    "import os\n",
    "import pandas as pd"
   ]
  },
  {
   "cell_type": "code",
   "execution_count": 2,
   "id": "c17fd211-bd4d-42c3-88e0-b8910229c9e7",
   "metadata": {},
   "outputs": [],
   "source": [
    "data_dir = \"data/SA_S0/trans-K/zmat/*.gjf\"\n",
    "paths = [p for p in glob.glob(data_dir)]\n",
    "\n",
    "result_dir = data_dir.replace(\"*.gjf\", \"\")\n",
    "\n",
    "list_r = list(range(6,22))\n",
    "list_a = list(range(7,22))\n",
    "list_d = list(range(8,22))\n",
    "\n",
    "r_n_list = []\n",
    "a_n_list = []\n",
    "d_n_list = []\n",
    "\n",
    "value_r_list = []\n",
    "value_a_list = []\n",
    "value_d_list = []"
   ]
  },
  {
   "cell_type": "code",
   "execution_count": 3,
   "id": "389a3750-039d-4096-a47f-e799516b1252",
   "metadata": {},
   "outputs": [],
   "source": [
    "for path in paths:\n",
    "    r_n_list = []\n",
    "    a_n_list = []\n",
    "    d_n_list = []\n",
    "    value_r_list = []\n",
    "    value_a_list = []\n",
    "    value_d_list = []\n",
    "    file_name = path.split('/')[-1].split('.')[0]\n",
    "\n",
    "    with codecs.open(path, \"r\", \"UTF-8\", \"ignore\") as file:\n",
    "        df = pd.read_table(file)\n",
    "        df = df.rename(columns={df.columns[0]: 'Col_1'})\n",
    "        df = df[35:]\n",
    "        # 取り出したいパラメーターを含む行を探す\n",
    "        for n in list_r:\n",
    "            r_n = \"r\" + str(n)\n",
    "            r_n_df = df[df['Col_1'].str.contains(r_n, case=False)]\n",
    "            r_n_value = float(r_n_df['Col_1'].iloc[0].split(\" \")[-1])\n",
    "            r_n_list.append(r_n)\n",
    "            value_r_list.append(r_n_value)\n",
    "        \n",
    "        for n in list_a:\n",
    "            a_n = \"a\" + str(n)\n",
    "            a_n_df = df[df['Col_1'].str.contains(a_n, case=False)]\n",
    "            a_n_value = float(a_n_df['Col_1'].iloc[0].split(\" \")[-1])\n",
    "            a_n_list.append(a_n)\n",
    "            value_a_list.append(a_n_value)\n",
    "            \n",
    "        for n in list_d:\n",
    "            d_n = \"d\" + str(n)\n",
    "            d_n_df = df[df['Col_1'].str.contains(d_n, case=False)]\n",
    "            d_n_value = float(d_n_df['Col_1'].iloc[0].split(\" \")[-1])\n",
    "            d_n_list.append(d_n)\n",
    "            value_d_list.append(d_n_value)\n",
    "    df_r = pd.DataFrame(value_r_list, index=r_n_list, columns=[\"r\" + file_name])\n",
    "    df_a = pd.DataFrame(value_a_list, index=a_n_list, columns=[\"a\" + file_name])\n",
    "    df_d = pd.DataFrame(value_d_list, index=d_n_list, columns=[\"d\" + file_name]) \n",
    "    df_result = pd.concat([df_r, df_a, df_d])\n",
    "    df_result.to_csv(result_dir + file_name + \".csv\")"
   ]
  }
 ],
 "metadata": {
  "kernelspec": {
   "display_name": "Python 3",
   "language": "python",
   "name": "python3"
  },
  "language_info": {
   "codemirror_mode": {
    "name": "ipython",
    "version": 3
   },
   "file_extension": ".py",
   "mimetype": "text/x-python",
   "name": "python",
   "nbconvert_exporter": "python",
   "pygments_lexer": "ipython3",
   "version": "3.8.8"
  }
 },
 "nbformat": 4,
 "nbformat_minor": 5
}
